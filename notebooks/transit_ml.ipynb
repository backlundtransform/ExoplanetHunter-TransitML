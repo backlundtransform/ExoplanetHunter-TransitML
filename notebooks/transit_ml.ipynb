{
 "cells": [
  {
   "cell_type": "code",
   "execution_count": 2,
   "id": "2e06f439",
   "metadata": {},
   "outputs": [
    {
     "name": "stderr",
     "output_type": "stream",
     "text": [
      "C:\\Users\\goran.backlund\\AppData\\Roaming\\Python\\Python313\\site-packages\\lightkurve\\prf\\__init__.py:7: UserWarning: Warning: the tpfmodel submodule is not available without oktopus installed, which requires a current version of autograd. See #1452 for details.\n",
      "  warnings.warn(\n"
     ]
    }
   ],
   "source": [
    "import lightkurve as lk\n",
    "import numpy as np\n",
    "import pandas as pd\n",
    "from scipy.stats import skew, kurtosis\n",
    "import plotly.express as px\n",
    "import plotly.graph_objects as go\n"
   ]
  },
  {
   "cell_type": "markdown",
   "id": "74027c4a",
   "metadata": {},
   "source": [
    "\n",
    "\n",
    "## 🧩 `build_segmented_dataset()` — Function Summary\n",
    "\n",
    "The `build_segmented_dataset()` function takes a **light curve** (from the [Lightkurve](https://docs.lightkurve.org/) library) and converts it into a **segmented, event-labeled dataset** suitable for machine learning.\n",
    "\n",
    "### **Purpose**\n",
    "\n",
    "To break a continuous light curve into smaller overlapping segments, compute statistical features for each segment, and label segments containing significant flux dips as potential transit events.\n",
    "\n",
    "### **How it works**\n",
    "\n",
    "1. **Input:** a `lightkurve.LightCurve` object\n",
    "2. **Segmentation:** divides the flux time series into equal-length windows (`segment_length`)\n",
    "3. **Feature extraction:** computes basic statistical features per segment:\n",
    "\n",
    "   * mean, std, min, max flux\n",
    "   * skewness, kurtosis\n",
    "   * transit depth (median − min)\n",
    "4. **Event detection:** flags segments that contain points below\n",
    "   `median_flux - sigma * std_flux`\n",
    "   as **events** (`label = 1`), otherwise **non-events** (`label = 0`)\n",
    "5. **Output:** returns a `pandas.DataFrame` where each row represents one segment.\n",
    "\n",
    "### **Output structure**\n",
    "\n",
    "| segment_start | segment_end | mean_flux | std_flux | min_flux | max_flux | skew | kurtosis | transit_depth | label |\n",
    "| ------------- | ----------- | --------- | -------- | -------- | -------- | ---- | -------- | ------------- | ----- |\n",
    "\n",
    "---\n",
    "\n"
   ]
  },
  {
   "cell_type": "code",
   "execution_count": 3,
   "id": "c7a2adb1",
   "metadata": {},
   "outputs": [],
   "source": [
    "def build_segmented_dataset(\n",
    "    lc,\n",
    "    segment_length=200,\n",
    "    overlap=0,\n",
    "    sigma=3,\n",
    "):\n",
    "    \n",
    "\n",
    "    flux = lc.flux.value\n",
    "    time = lc.time.value\n",
    "    n = len(flux)\n",
    "    step = segment_length - overlap\n",
    "\n",
    "    median_flux = np.median(flux)\n",
    "    std_flux = np.std(flux)\n",
    "\n",
    "    event_mask = flux < median_flux - sigma * std_flux\n",
    "    event_indices = np.where(event_mask)[0]\n",
    "\n",
    "    segments = []\n",
    "\n",
    "    for start in range(0, n - segment_length, step):\n",
    "        end = start + segment_length\n",
    "        seg_flux = flux[start:end]\n",
    "        seg_time = time[start:end]\n",
    "\n",
    "        features = {\n",
    "            \"segment_start\": seg_time[0],\n",
    "            \"segment_end\": seg_time[-1],\n",
    "            \"mean_flux\": np.mean(seg_flux),\n",
    "            \"std_flux\": np.std(seg_flux),\n",
    "            \"min_flux\": np.min(seg_flux),\n",
    "            \"max_flux\": np.max(seg_flux),\n",
    "            \"skew\": skew(seg_flux),\n",
    "            \"kurtosis\": kurtosis(seg_flux),\n",
    "            \"transit_depth\": np.median(seg_flux) - np.min(seg_flux),\n",
    "        }\n",
    "\n",
    "       \n",
    "        if np.any((event_indices >= start) & (event_indices < end)):\n",
    "            features[\"label\"] = 1\n",
    "        else:\n",
    "            features[\"label\"] = 0\n",
    "\n",
    "        segments.append(features)\n",
    "\n",
    "    df = pd.DataFrame(segments)\n",
    "    return df"
   ]
  },
  {
   "cell_type": "code",
   "execution_count": 9,
   "id": "c4cdae59",
   "metadata": {},
   "outputs": [
    {
     "name": "stderr",
     "output_type": "stream",
     "text": [
      "C:\\Users\\goran.backlund\\AppData\\Roaming\\Python\\Python313\\site-packages\\lightkurve\\search.py:420: LightkurveWarning: Warning: 5 files available to download. Only the first file has been downloaded. Please use `download_all()` or specify additional criteria (e.g. quarter, campaign, or sector) to limit your search.\n",
      "  warnings.warn(\n"
     ]
    },
    {
     "name": "stdout",
     "output_type": "stream",
     "text": [
      "✅ Saved combined dataset for all targets.\n"
     ]
    }
   ],
   "source": [
    "all_segments = []\n",
    "\n",
    "for target in [\"Kepler-10\"]:\n",
    "    search = lk.search_lightcurve(target, mission=\"Kepler\", quarter=10)\n",
    "    lc = search.download().remove_nans().normalize().flatten(window_length=401)\n",
    "    \n",
    "    df = build_segmented_dataset(lc, segment_length=200, sigma=5)\n",
    "    df[\"target_id\"] = target\n",
    "    all_segments.append(df)\n",
    "\n",
    "# Merge all targets into one DataFrame\n",
    "df_all = pd.concat(all_segments, ignore_index=True)\n",
    "df_all.to_csv(\"transit_segments_all.csv\", index=False)\n",
    "\n",
    "print(\"✅ Saved combined dataset for all targets.\")"
   ]
  },
  {
   "cell_type": "code",
   "execution_count": 4,
   "id": "e689333a",
   "metadata": {},
   "outputs": [
    {
     "data": {
      "application/vnd.plotly.v1+json": {
       "config": {
        "plotlyServerURL": "https://plot.ly"
       },
       "data": [
        {
         "line": {
          "color": "blue"
         },
         "marker": {
          "size": 6
         },
         "mode": "lines+markers",
         "name": "Mean Flux",
         "type": "scatter",
         "x": {
          "bdata": "AAABAAIAAwAEAAUABgAHAAgACQAKAAsADAANAA4ADwAQABEAEgATABQAFQAWABcAGAAZABoAGwAcAB0AHgAfACAAIQAiACMAJAAlACYAJwAoACkAKgArACwALQAuAC8AMAAxADIAMwA0ADUANgA3ADgAOQA6ADsAPAA9AD4APwBAAEEAQgBDAEQARQBGAEcASABJAEoASwBMAE0ATgBPAFAAUQBSAFMAVABVAFYAVwBYAFkAWgBbAFwAXQBeAF8AYABhAGIAYwBkAGUAZgBnAGgAaQBqAGsAbABtAG4AbwBwAHEAcgBzAHQAdQB2AHcAeAB5AHoAewB8AH0AfgB/AIAAgQCCAIMAhACFAIYAhwCIAIkAigCLAIwAjQCOAI8AkACRAJIAkwCUAJUAlgCXAJgAmQCaAJsAnACdAJ4AnwCgAKEAogCjAKQApQCmAKcAqACpAKoAqwCsAK0ArgCvALAAsQCyALMAtAC1ALYAtwC4ALkAugC7ALwAvQC+AL8AwADBAMIAwwDEAMUAxgDHAMgAyQDKAMsAzADNAM4AzwDQANEA0gDTANQA1QDWANcA2ADZANoA",
          "dtype": "i2"
         },
         "y": {
          "bdata": "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",
          "dtype": "f8"
         }
        },
        {
         "marker": {
          "color": "red",
          "size": 8,
          "symbol": "circle-open"
         },
         "mode": "markers",
         "name": "Transit",
         "type": "scatter",
         "x": {
          "bdata": "CQoLDA0PMDFT",
          "dtype": "i1"
         },
         "y": {
          "bdata": "jICwgc//7z+0wpaT2P/vP6DW/v7e/+8/CTLkSdL/7z8iclI0yv/vP5mwdTyx/+8/R4zqBUP/7z8TiQIh0P/vP+YwMiBH/+8/",
          "dtype": "f8"
         }
        }
       ],
       "layout": {
        "template": {
         "data": {
          "bar": [
           {
            "error_x": {
             "color": "#2a3f5f"
            },
            "error_y": {
             "color": "#2a3f5f"
            },
            "marker": {
             "line": {
              "color": "white",
              "width": 0.5
             },
             "pattern": {
              "fillmode": "overlay",
              "size": 10,
              "solidity": 0.2
             }
            },
            "type": "bar"
           }
          ],
          "barpolar": [
           {
            "marker": {
             "line": {
              "color": "white",
              "width": 0.5
             },
             "pattern": {
              "fillmode": "overlay",
              "size": 10,
              "solidity": 0.2
             }
            },
            "type": "barpolar"
           }
          ],
          "carpet": [
           {
            "aaxis": {
             "endlinecolor": "#2a3f5f",
             "gridcolor": "#C8D4E3",
             "linecolor": "#C8D4E3",
             "minorgridcolor": "#C8D4E3",
             "startlinecolor": "#2a3f5f"
            },
            "baxis": {
             "endlinecolor": "#2a3f5f",
             "gridcolor": "#C8D4E3",
             "linecolor": "#C8D4E3",
             "minorgridcolor": "#C8D4E3",
             "startlinecolor": "#2a3f5f"
            },
            "type": "carpet"
           }
          ],
          "choropleth": [
           {
            "colorbar": {
             "outlinewidth": 0,
             "ticks": ""
            },
            "type": "choropleth"
           }
          ],
          "contour": [
           {
            "colorbar": {
             "outlinewidth": 0,
             "ticks": ""
            },
            "colorscale": [
             [
              0,
              "#0d0887"
             ],
             [
              0.1111111111111111,
              "#46039f"
             ],
             [
              0.2222222222222222,
              "#7201a8"
             ],
             [
              0.3333333333333333,
              "#9c179e"
             ],
             [
              0.4444444444444444,
              "#bd3786"
             ],
             [
              0.5555555555555556,
              "#d8576b"
             ],
             [
              0.6666666666666666,
              "#ed7953"
             ],
             [
              0.7777777777777778,
              "#fb9f3a"
             ],
             [
              0.8888888888888888,
              "#fdca26"
             ],
             [
              1,
              "#f0f921"
             ]
            ],
            "type": "contour"
           }
          ],
          "contourcarpet": [
           {
            "colorbar": {
             "outlinewidth": 0,
             "ticks": ""
            },
            "type": "contourcarpet"
           }
          ],
          "heatmap": [
           {
            "colorbar": {
             "outlinewidth": 0,
             "ticks": ""
            },
            "colorscale": [
             [
              0,
              "#0d0887"
             ],
             [
              0.1111111111111111,
              "#46039f"
             ],
             [
              0.2222222222222222,
              "#7201a8"
             ],
             [
              0.3333333333333333,
              "#9c179e"
             ],
             [
              0.4444444444444444,
              "#bd3786"
             ],
             [
              0.5555555555555556,
              "#d8576b"
             ],
             [
              0.6666666666666666,
              "#ed7953"
             ],
             [
              0.7777777777777778,
              "#fb9f3a"
             ],
             [
              0.8888888888888888,
              "#fdca26"
             ],
             [
              1,
              "#f0f921"
             ]
            ],
            "type": "heatmap"
           }
          ],
          "histogram": [
           {
            "marker": {
             "pattern": {
              "fillmode": "overlay",
              "size": 10,
              "solidity": 0.2
             }
            },
            "type": "histogram"
           }
          ],
          "histogram2d": [
           {
            "colorbar": {
             "outlinewidth": 0,
             "ticks": ""
            },
            "colorscale": [
             [
              0,
              "#0d0887"
             ],
             [
              0.1111111111111111,
              "#46039f"
             ],
             [
              0.2222222222222222,
              "#7201a8"
             ],
             [
              0.3333333333333333,
              "#9c179e"
             ],
             [
              0.4444444444444444,
              "#bd3786"
             ],
             [
              0.5555555555555556,
              "#d8576b"
             ],
             [
              0.6666666666666666,
              "#ed7953"
             ],
             [
              0.7777777777777778,
              "#fb9f3a"
             ],
             [
              0.8888888888888888,
              "#fdca26"
             ],
             [
              1,
              "#f0f921"
             ]
            ],
            "type": "histogram2d"
           }
          ],
          "histogram2dcontour": [
           {
            "colorbar": {
             "outlinewidth": 0,
             "ticks": ""
            },
            "colorscale": [
             [
              0,
              "#0d0887"
             ],
             [
              0.1111111111111111,
              "#46039f"
             ],
             [
              0.2222222222222222,
              "#7201a8"
             ],
             [
              0.3333333333333333,
              "#9c179e"
             ],
             [
              0.4444444444444444,
              "#bd3786"
             ],
             [
              0.5555555555555556,
              "#d8576b"
             ],
             [
              0.6666666666666666,
              "#ed7953"
             ],
             [
              0.7777777777777778,
              "#fb9f3a"
             ],
             [
              0.8888888888888888,
              "#fdca26"
             ],
             [
              1,
              "#f0f921"
             ]
            ],
            "type": "histogram2dcontour"
           }
          ],
          "mesh3d": [
           {
            "colorbar": {
             "outlinewidth": 0,
             "ticks": ""
            },
            "type": "mesh3d"
           }
          ],
          "parcoords": [
           {
            "line": {
             "colorbar": {
              "outlinewidth": 0,
              "ticks": ""
             }
            },
            "type": "parcoords"
           }
          ],
          "pie": [
           {
            "automargin": true,
            "type": "pie"
           }
          ],
          "scatter": [
           {
            "fillpattern": {
             "fillmode": "overlay",
             "size": 10,
             "solidity": 0.2
            },
            "type": "scatter"
           }
          ],
          "scatter3d": [
           {
            "line": {
             "colorbar": {
              "outlinewidth": 0,
              "ticks": ""
             }
            },
            "marker": {
             "colorbar": {
              "outlinewidth": 0,
              "ticks": ""
             }
            },
            "type": "scatter3d"
           }
          ],
          "scattercarpet": [
           {
            "marker": {
             "colorbar": {
              "outlinewidth": 0,
              "ticks": ""
             }
            },
            "type": "scattercarpet"
           }
          ],
          "scattergeo": [
           {
            "marker": {
             "colorbar": {
              "outlinewidth": 0,
              "ticks": ""
             }
            },
            "type": "scattergeo"
           }
          ],
          "scattergl": [
           {
            "marker": {
             "colorbar": {
              "outlinewidth": 0,
              "ticks": ""
             }
            },
            "type": "scattergl"
           }
          ],
          "scattermap": [
           {
            "marker": {
             "colorbar": {
              "outlinewidth": 0,
              "ticks": ""
             }
            },
            "type": "scattermap"
           }
          ],
          "scattermapbox": [
           {
            "marker": {
             "colorbar": {
              "outlinewidth": 0,
              "ticks": ""
             }
            },
            "type": "scattermapbox"
           }
          ],
          "scatterpolar": [
           {
            "marker": {
             "colorbar": {
              "outlinewidth": 0,
              "ticks": ""
             }
            },
            "type": "scatterpolar"
           }
          ],
          "scatterpolargl": [
           {
            "marker": {
             "colorbar": {
              "outlinewidth": 0,
              "ticks": ""
             }
            },
            "type": "scatterpolargl"
           }
          ],
          "scatterternary": [
           {
            "marker": {
             "colorbar": {
              "outlinewidth": 0,
              "ticks": ""
             }
            },
            "type": "scatterternary"
           }
          ],
          "surface": [
           {
            "colorbar": {
             "outlinewidth": 0,
             "ticks": ""
            },
            "colorscale": [
             [
              0,
              "#0d0887"
             ],
             [
              0.1111111111111111,
              "#46039f"
             ],
             [
              0.2222222222222222,
              "#7201a8"
             ],
             [
              0.3333333333333333,
              "#9c179e"
             ],
             [
              0.4444444444444444,
              "#bd3786"
             ],
             [
              0.5555555555555556,
              "#d8576b"
             ],
             [
              0.6666666666666666,
              "#ed7953"
             ],
             [
              0.7777777777777778,
              "#fb9f3a"
             ],
             [
              0.8888888888888888,
              "#fdca26"
             ],
             [
              1,
              "#f0f921"
             ]
            ],
            "type": "surface"
           }
          ],
          "table": [
           {
            "cells": {
             "fill": {
              "color": "#EBF0F8"
             },
             "line": {
              "color": "white"
             }
            },
            "header": {
             "fill": {
              "color": "#C8D4E3"
             },
             "line": {
              "color": "white"
             }
            },
            "type": "table"
           }
          ]
         },
         "layout": {
          "annotationdefaults": {
           "arrowcolor": "#2a3f5f",
           "arrowhead": 0,
           "arrowwidth": 1
          },
          "autotypenumbers": "strict",
          "coloraxis": {
           "colorbar": {
            "outlinewidth": 0,
            "ticks": ""
           }
          },
          "colorscale": {
           "diverging": [
            [
             0,
             "#8e0152"
            ],
            [
             0.1,
             "#c51b7d"
            ],
            [
             0.2,
             "#de77ae"
            ],
            [
             0.3,
             "#f1b6da"
            ],
            [
             0.4,
             "#fde0ef"
            ],
            [
             0.5,
             "#f7f7f7"
            ],
            [
             0.6,
             "#e6f5d0"
            ],
            [
             0.7,
             "#b8e186"
            ],
            [
             0.8,
             "#7fbc41"
            ],
            [
             0.9,
             "#4d9221"
            ],
            [
             1,
             "#276419"
            ]
           ],
           "sequential": [
            [
             0,
             "#0d0887"
            ],
            [
             0.1111111111111111,
             "#46039f"
            ],
            [
             0.2222222222222222,
             "#7201a8"
            ],
            [
             0.3333333333333333,
             "#9c179e"
            ],
            [
             0.4444444444444444,
             "#bd3786"
            ],
            [
             0.5555555555555556,
             "#d8576b"
            ],
            [
             0.6666666666666666,
             "#ed7953"
            ],
            [
             0.7777777777777778,
             "#fb9f3a"
            ],
            [
             0.8888888888888888,
             "#fdca26"
            ],
            [
             1,
             "#f0f921"
            ]
           ],
           "sequentialminus": [
            [
             0,
             "#0d0887"
            ],
            [
             0.1111111111111111,
             "#46039f"
            ],
            [
             0.2222222222222222,
             "#7201a8"
            ],
            [
             0.3333333333333333,
             "#9c179e"
            ],
            [
             0.4444444444444444,
             "#bd3786"
            ],
            [
             0.5555555555555556,
             "#d8576b"
            ],
            [
             0.6666666666666666,
             "#ed7953"
            ],
            [
             0.7777777777777778,
             "#fb9f3a"
            ],
            [
             0.8888888888888888,
             "#fdca26"
            ],
            [
             1,
             "#f0f921"
            ]
           ]
          },
          "colorway": [
           "#636efa",
           "#EF553B",
           "#00cc96",
           "#ab63fa",
           "#FFA15A",
           "#19d3f3",
           "#FF6692",
           "#B6E880",
           "#FF97FF",
           "#FECB52"
          ],
          "font": {
           "color": "#2a3f5f"
          },
          "geo": {
           "bgcolor": "white",
           "lakecolor": "white",
           "landcolor": "white",
           "showlakes": true,
           "showland": true,
           "subunitcolor": "#C8D4E3"
          },
          "hoverlabel": {
           "align": "left"
          },
          "hovermode": "closest",
          "mapbox": {
           "style": "light"
          },
          "paper_bgcolor": "white",
          "plot_bgcolor": "white",
          "polar": {
           "angularaxis": {
            "gridcolor": "#EBF0F8",
            "linecolor": "#EBF0F8",
            "ticks": ""
           },
           "bgcolor": "white",
           "radialaxis": {
            "gridcolor": "#EBF0F8",
            "linecolor": "#EBF0F8",
            "ticks": ""
           }
          },
          "scene": {
           "xaxis": {
            "backgroundcolor": "white",
            "gridcolor": "#DFE8F3",
            "gridwidth": 2,
            "linecolor": "#EBF0F8",
            "showbackground": true,
            "ticks": "",
            "zerolinecolor": "#EBF0F8"
           },
           "yaxis": {
            "backgroundcolor": "white",
            "gridcolor": "#DFE8F3",
            "gridwidth": 2,
            "linecolor": "#EBF0F8",
            "showbackground": true,
            "ticks": "",
            "zerolinecolor": "#EBF0F8"
           },
           "zaxis": {
            "backgroundcolor": "white",
            "gridcolor": "#DFE8F3",
            "gridwidth": 2,
            "linecolor": "#EBF0F8",
            "showbackground": true,
            "ticks": "",
            "zerolinecolor": "#EBF0F8"
           }
          },
          "shapedefaults": {
           "line": {
            "color": "#2a3f5f"
           }
          },
          "ternary": {
           "aaxis": {
            "gridcolor": "#DFE8F3",
            "linecolor": "#A2B1C6",
            "ticks": ""
           },
           "baxis": {
            "gridcolor": "#DFE8F3",
            "linecolor": "#A2B1C6",
            "ticks": ""
           },
           "bgcolor": "white",
           "caxis": {
            "gridcolor": "#DFE8F3",
            "linecolor": "#A2B1C6",
            "ticks": ""
           }
          },
          "title": {
           "x": 0.05
          },
          "xaxis": {
           "automargin": true,
           "gridcolor": "#EBF0F8",
           "linecolor": "#EBF0F8",
           "ticks": "",
           "title": {
            "standoff": 15
           },
           "zerolinecolor": "#EBF0F8",
           "zerolinewidth": 2
          },
          "yaxis": {
           "automargin": true,
           "gridcolor": "#EBF0F8",
           "linecolor": "#EBF0F8",
           "ticks": "",
           "title": {
            "standoff": 15
           },
           "zerolinecolor": "#EBF0F8",
           "zerolinewidth": 2
          }
         }
        },
        "title": {
         "text": "Segmented Lightcurve for Kepler-10"
        },
        "xaxis": {
         "title": {
          "text": "Segment Index"
         }
        },
        "yaxis": {
         "title": {
          "text": "Normalized Flux"
         }
        }
       }
      }
     },
     "metadata": {},
     "output_type": "display_data"
    }
   ],
   "source": [
    "\n",
    "df = pd.read_csv(\"transit_segments_all.csv\")\n",
    "\n",
    "\n",
    "target = \"Kepler-10\"\n",
    "df_target = df[df[\"target_id\"] == target]\n",
    "\n",
    "\n",
    "fig = go.Figure()\n",
    "\n",
    "\n",
    "fig.add_trace(go.Scatter(\n",
    "    x=df_target.index,\n",
    "    y=df_target[\"mean_flux\"],\n",
    "    mode='lines+markers',\n",
    "    name='Mean Flux',\n",
    "    line=dict(color='blue'),\n",
    "    marker=dict(size=6)\n",
    "))\n",
    "\n",
    "\n",
    "transit_segments = df_target[df_target[\"label\"] == 1]\n",
    "fig.add_trace(go.Scatter(\n",
    "    x=transit_segments.index,\n",
    "    y=transit_segments[\"mean_flux\"],\n",
    "    mode='markers',\n",
    "    name='Transit',\n",
    "    marker=dict(color='red', size=8, symbol='circle-open')\n",
    "))\n",
    "\n",
    "fig.update_layout(\n",
    "    title=f\"Segmented Lightcurve for {target}\",\n",
    "    xaxis_title=\"Segment Index\",\n",
    "    yaxis_title=\"Normalized Flux\",\n",
    "    template=\"plotly_white\"\n",
    ")\n",
    "\n",
    "fig.show()"
   ]
  },
  {
   "cell_type": "code",
   "execution_count": 2,
   "id": "52c4ec68",
   "metadata": {},
   "outputs": [],
   "source": [
    "from grouped_timeserie_cv import GroupedTimeSerieCV\n",
    "\n",
    "\n",
    "from sklearn.pipeline import Pipeline\n",
    "from sklearn.preprocessing import StandardScaler\n",
    "from sklearn.feature_selection import SelectKBest\n",
    "from sklearn.naive_bayes import GaussianNB\n",
    "from sklearn.tree import DecisionTreeClassifier\n",
    "from sklearn.linear_model import LogisticRegression\n",
    "\n",
    "pipelines = [\n",
    "    Pipeline([\n",
    "        ('scaler', StandardScaler()),\n",
    "        ('selector', SelectKBest()),\n",
    "        ('model', GaussianNB())\n",
    "    ]),\n",
    "    Pipeline([\n",
    "        ('scaler', StandardScaler()),\n",
    "        ('selector', SelectKBest()),\n",
    "        ('model', DecisionTreeClassifier())\n",
    "    ]),\n",
    "    Pipeline([\n",
    "        ('scaler', StandardScaler()),\n",
    "        ('selector', SelectKBest()),\n",
    "        ('model', LogisticRegression())\n",
    "    ])\n",
    "]"
   ]
  },
  {
   "cell_type": "code",
   "execution_count": 3,
   "id": "60713d9e",
   "metadata": {},
   "outputs": [],
   "source": [
    "from sklearn.feature_selection import mutual_info_classif\n",
    "param_grids = [\n",
    "    # GaussianNB\n",
    "    {\n",
    "        'selector__k': [3, 5, 'all'],\n",
    "        'selector__score_func': [mutual_info_classif],\n",
    "        'model__var_smoothing': [1e-9, 1e-8, 1e-7, 1e-6]\n",
    "    },\n",
    "    \n",
    "    # DecisionTreeClassifier\n",
    "    {\n",
    "        'selector__k': [3, 5, 'all'],\n",
    "        'selector__score_func': [mutual_info_classif],\n",
    "        'model__criterion': ['gini', 'entropy'],\n",
    "        'model__splitter': ['best', 'random'],\n",
    "        'model__max_depth': [None, 10, 20, 30],\n",
    "        'model__min_samples_split': [2, 5, 10],\n",
    "        'model__min_samples_leaf': [1, 2, 4],\n",
    "        'model__random_state': [0, 12, 22, 42]\n",
    "    },\n",
    "    \n",
    "    # LogisticRegression\n",
    "    {\n",
    "        'selector__k': [3, 5, 'all'],\n",
    "        'selector__score_func': [mutual_info_classif],\n",
    "        'model__penalty': ['l1', 'l2', 'elasticnet', 'none'],\n",
    "        'model__C': [0.1, 1.0, 10.0],\n",
    "        'model__solver': ['lbfgs', 'liblinear', 'saga'],\n",
    "        'model__max_iter': [100, 200, 500],\n",
    "        'model__random_state': [0, 12, 22, 42]\n",
    "    }\n",
    "]"
   ]
  },
  {
   "cell_type": "code",
   "execution_count": null,
   "id": "0c3d4153",
   "metadata": {},
   "outputs": [],
   "source": [
    "df['DateTime'] = pd.to_datetime(df['DateTime'])  # solve that datetime column exists\n",
    "\n",
    "grouped_cv = GroupedTimeSerieCV()\n",
    "result = grouped_cv.classify(df, pipelines, param_grids, 'D', 'DateTime', 'Label', 'accuracy')"
   ]
  }
 ],
 "metadata": {
  "kernelspec": {
   "display_name": "Python 3",
   "language": "python",
   "name": "python3"
  },
  "language_info": {
   "codemirror_mode": {
    "name": "ipython",
    "version": 3
   },
   "file_extension": ".py",
   "mimetype": "text/x-python",
   "name": "python",
   "nbconvert_exporter": "python",
   "pygments_lexer": "ipython3",
   "version": "3.13.7"
  }
 },
 "nbformat": 4,
 "nbformat_minor": 5
}
