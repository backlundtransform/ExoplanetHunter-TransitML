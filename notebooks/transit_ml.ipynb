{
 "cells": [
  {
   "cell_type": "code",
   "execution_count": 5,
   "id": "2e06f439",
   "metadata": {},
   "outputs": [],
   "source": [
    "import lightkurve as lk\n",
    "import numpy as np\n",
    "import pandas as pd\n",
    "from scipy.stats import skew, kurtosis\n",
    "import plotly.express as px\n",
    "import plotly.graph_objects as go\n"
   ]
  },
  {
   "cell_type": "markdown",
   "id": "74027c4a",
   "metadata": {},
   "source": [
    "\n",
    "\n",
    "## 🧩 `build_segmented_dataset()` — Function Summary\n",
    "\n",
    "The `build_segmented_dataset()` function takes a **light curve** (from the [Lightkurve](https://docs.lightkurve.org/) library) and converts it into a **segmented, event-labeled dataset** suitable for machine learning.\n",
    "\n",
    "### **Purpose**\n",
    "\n",
    "To break a continuous light curve into smaller overlapping segments, compute statistical features for each segment, and label segments containing significant flux dips as potential transit events.\n",
    "\n",
    "### **How it works**\n",
    "\n",
    "1. **Input:** a `lightkurve.LightCurve` object\n",
    "2. **Segmentation:** divides the flux time series into equal-length windows (`segment_length`)\n",
    "3. **Feature extraction:** computes basic statistical features per segment:\n",
    "\n",
    "   * mean, std, min, max flux\n",
    "   * skewness, kurtosis\n",
    "   * transit depth (median − min)\n",
    "4. **Event detection:** flags segments that contain points below\n",
    "   `median_flux - sigma * std_flux`\n",
    "   as **events** (`label = 1`), otherwise **non-events** (`label = 0`)\n",
    "5. **Output:** returns a `pandas.DataFrame` where each row represents one segment.\n",
    "\n",
    "### **Output structure**\n",
    "\n",
    "| segment_start | segment_end | mean_flux | std_flux | min_flux | max_flux | skew | kurtosis | transit_depth | label |\n",
    "| ------------- | ----------- | --------- | -------- | -------- | -------- | ---- | -------- | ------------- | ----- |\n",
    "\n",
    "---\n",
    "\n"
   ]
  },
  {
   "cell_type": "code",
   "execution_count": null,
   "id": "c7a2adb1",
   "metadata": {},
   "outputs": [],
   "source": [
    "def build_segmented_dataset(\n",
    "    lc,\n",
    "    segment_length=200,\n",
    "    overlap=0,\n",
    "    sigma=3,\n",
    "):\n",
    "    \n",
    "\n",
    "    flux = lc.flux.value\n",
    "    time = lc.time.value\n",
    "    n = len(flux)\n",
    "    step = segment_length - overlap\n",
    "\n",
    "    median_flux = np.median(flux)\n",
    "    std_flux = np.std(flux)\n",
    "\n",
    "    event_mask = flux < median_flux - sigma * std_flux\n",
    "    event_indices = np.where(event_mask)[0]\n",
    "\n",
    "    segments = []\n",
    "\n",
    "    for start in range(0, n - segment_length, step):\n",
    "        end = start + segment_length\n",
    "        seg_flux = flux[start:end]\n",
    "        seg_time = time[start:end]\n",
    "\n",
    "        features = {\n",
    "            \"segment_start\": seg_time[0],\n",
    "            \"segment_end\": seg_time[-1],\n",
    "            \"mean_flux\": np.mean(seg_flux),\n",
    "            \"std_flux\": np.std(seg_flux),\n",
    "            \"min_flux\": np.min(seg_flux),\n",
    "            \"max_flux\": np.max(seg_flux),\n",
    "            \"skew\": skew(seg_flux),\n",
    "            \"kurtosis\": kurtosis(seg_flux),\n",
    "            \"transit_depth\": np.median(seg_flux) - np.min(seg_flux),\n",
    "        }\n",
    "\n",
    "       \n",
    "        if np.any((event_indices >= start) & (event_indices < end)):\n",
    "            features[\"label\"] = 1\n",
    "        else:\n",
    "            features[\"label\"] = 0\n",
    "\n",
    "        segments.append(features)\n",
    "\n",
    "    df = pd.DataFrame(segments)\n",
    "    return df"
   ]
  },
  {
   "cell_type": "code",
   "execution_count": 12,
   "id": "ac1eb898",
   "metadata": {},
   "outputs": [
    {
     "name": "stdout",
     "output_type": "stream",
     "text": [
      "   segment_start  segment_end           mean_flux                std_flux  \\\n",
      "0     200.324085   200.459628  0.9999955480072467  0.00020480690782619156   \n",
      "1     200.460310   200.595853  1.0000114228342825  0.00022028633787149135   \n",
      "2     200.596534   200.732078  0.9999900579346955  0.00021593210217208254   \n",
      "3     200.732759   200.868302  1.0000173306553606  0.00022584174972427093   \n",
      "4     200.868983   201.004527  0.9999970499217118  0.00024485229373302504   \n",
      "\n",
      "             min_flux            max_flux      skew  kurtosis  \\\n",
      "0  0.9994147368777393  1.0005761126734776 -0.121301  0.225332   \n",
      "1  0.9993707576952258  1.0006799623168925 -0.083657  0.059639   \n",
      "2  0.9993596873381183  1.0006687408361072  0.165235  0.024089   \n",
      "3  0.9994191459645783  1.0008826107314164  0.273535  0.892788   \n",
      "4  0.9993573279598602  1.0007581800268617  0.317908  0.112242   \n",
      "\n",
      "           transit_depth  label  object_id  \n",
      "0  0.0005810315734758875      0  Kepler-10  \n",
      "1  0.0006421155866287442      0  Kepler-10  \n",
      "2  0.0006269020104003875      0  Kepler-10  \n",
      "3  0.0005967073947890089      0  Kepler-10  \n",
      "4  0.0006306325657114975      0  Kepler-10  \n"
     ]
    }
   ],
   "source": [
    "df_segments = build_segmented_dataset(lc, segment_length=200, sigma=3)\n",
    "\n",
    "df_segments[\"object_id\"] = \"Kepler-10\"\n",
    "print(df_segments.head())"
   ]
  },
  {
   "cell_type": "code",
   "execution_count": 4,
   "id": "c4cdae59",
   "metadata": {},
   "outputs": [
    {
     "name": "stderr",
     "output_type": "stream",
     "text": [
      "c:\\Users\\goran.backlund\\AppData\\Local\\Programs\\Python\\Python310\\lib\\site-packages\\lightkurve\\search.py:420: LightkurveWarning: Warning: 5 files available to download. Only the first file has been downloaded. Please use `download_all()` or specify additional criteria (e.g. quarter, campaign, or sector) to limit your search.\n",
      "  warnings.warn(\n",
      "c:\\Users\\goran.backlund\\AppData\\Local\\Programs\\Python\\Python310\\lib\\site-packages\\lightkurve\\search.py:420: LightkurveWarning: Warning: 5 files available to download. Only the first file has been downloaded. Please use `download_all()` or specify additional criteria (e.g. quarter, campaign, or sector) to limit your search.\n",
      "  warnings.warn(\n",
      "c:\\Users\\goran.backlund\\AppData\\Local\\Programs\\Python\\Python310\\lib\\site-packages\\lightkurve\\search.py:420: LightkurveWarning: Warning: 5 files available to download. Only the first file has been downloaded. Please use `download_all()` or specify additional criteria (e.g. quarter, campaign, or sector) to limit your search.\n",
      "  warnings.warn(\n"
     ]
    },
    {
     "name": "stdout",
     "output_type": "stream",
     "text": [
      "✅ Saved combined dataset for all targets.\n"
     ]
    }
   ],
   "source": [
    "all_segments = []\n",
    "\n",
    "for target in [\"Kepler-10\", \"Kepler-11\", \"Kepler-12\"]:\n",
    "    search = lk.search_lightcurve(target, mission=\"Kepler\", quarter=10)\n",
    "    lc = search.download().remove_nans().normalize().flatten(window_length=401)\n",
    "    \n",
    "    df = build_segmented_dataset(lc, segment_length=200, sigma=5)\n",
    "    df[\"target_id\"] = target\n",
    "    all_segments.append(df)\n",
    "\n",
    "# Merge all targets into one DataFrame\n",
    "df_all = pd.concat(all_segments, ignore_index=True)\n",
    "df_all.to_csv(\"transit_segments_all.csv\", index=False)\n",
    "\n",
    "print(\"✅ Saved combined dataset for all targets.\")"
   ]
  },
  {
   "cell_type": "code",
   "execution_count": 6,
   "id": "e689333a",
   "metadata": {},
   "outputs": [
    {
     "data": {
      "application/vnd.plotly.v1+json": {
       "config": {
        "plotlyServerURL": "https://plot.ly"
       },
       "data": [
        {
         "line": {
          "color": "blue"
         },
         "marker": {
          "size": 6
         },
         "mode": "lines+markers",
         "name": "Mean Flux",
         "type": "scatter",
         "x": [
          0,
          1,
          2,
          3,
          4,
          5,
          6,
          7,
          8,
          9,
          10,
          11,
          12,
          13,
          14,
          15,
          16,
          17,
          18,
          19,
          20,
          21,
          22,
          23,
          24,
          25,
          26,
          27,
          28,
          29,
          30,
          31,
          32,
          33,
          34,
          35,
          36,
          37,
          38,
          39,
          40,
          41,
          42,
          43,
          44,
          45,
          46,
          47,
          48,
          49,
          50,
          51,
          52,
          53,
          54,
          55,
          56,
          57,
          58,
          59,
          60,
          61,
          62,
          63,
          64,
          65,
          66,
          67,
          68,
          69,
          70,
          71,
          72,
          73,
          74,
          75,
          76,
          77,
          78,
          79,
          80,
          81,
          82,
          83,
          84,
          85,
          86,
          87,
          88,
          89,
          90,
          91,
          92,
          93,
          94,
          95,
          96,
          97,
          98,
          99,
          100,
          101,
          102,
          103,
          104,
          105,
          106,
          107,
          108,
          109,
          110,
          111,
          112,
          113,
          114,
          115,
          116,
          117,
          118,
          119,
          120,
          121,
          122,
          123,
          124,
          125,
          126,
          127,
          128,
          129,
          130,
          131,
          132,
          133,
          134,
          135,
          136,
          137,
          138,
          139,
          140,
          141,
          142,
          143,
          144,
          145,
          146,
          147,
          148,
          149,
          150,
          151,
          152,
          153,
          154,
          155,
          156,
          157,
          158,
          159,
          160,
          161,
          162,
          163,
          164,
          165,
          166,
          167,
          168,
          169,
          170,
          171,
          172,
          173,
          174,
          175,
          176,
          177,
          178,
          179,
          180,
          181,
          182,
          183,
          184,
          185,
          186,
          187,
          188,
          189,
          190,
          191,
          192,
          193,
          194,
          195,
          196,
          197,
          198,
          199,
          200,
          201,
          202,
          203,
          204,
          205,
          206,
          207,
          208,
          209,
          210,
          211,
          212,
          213,
          214,
          215,
          216,
          217,
          218
         ],
         "y": [
          1.000003990105487,
          0.9999951654889584,
          0.99999213856633,
          0.9999945394894216,
          1.0000078402040826,
          1.0001547940864948,
          0.9999944641782011,
          0.9999899742671248,
          0.9999993620294771,
          0.9999768765446944,
          0.9999812014194362,
          0.9999842625026822,
          0.999978203124159,
          0.9999743482508772,
          0.9999858240897782,
          0.9999624424795172,
          1.000000690334787,
          0.9999976100279734,
          1.0000087032435985,
          1.0000305866647872,
          0.999968666870577,
          0.999995855720249,
          0.9999839974289284,
          0.9999990825882922,
          1.000017072970278,
          1.0000152046550903,
          0.999987367215979,
          0.9999948512560568,
          0.9999965989879044,
          0.9999990769217664,
          0.9999979159385194,
          1.000010523830021,
          1.0000009364470086,
          0.9999983514876076,
          1.0000058730617618,
          1.0000012419007869,
          1.0000056704154867,
          0.999979068415684,
          1.000002545910237,
          1.000006807413729,
          1.0000041803417663,
          1.00000920440114,
          0.9999822213288632,
          1.0000013793879787,
          0.9999895856990402,
          1.0000123605055224,
          1.0000007076541175,
          1.0000020028439085,
          0.9999098887968864,
          0.999977173302144,
          0.9999958780622096,
          0.9999980108821332,
          0.9999952564655764,
          1.000005752271283,
          0.999991028132901,
          0.9999842269346476,
          1.0000150512325752,
          1.0000032072922125,
          0.999995417225789,
          1.0000002909932026,
          1.0000039048948548,
          0.999997842990692,
          1.0000262993250286,
          0.9999958949150778,
          0.9999932445863892,
          0.9999977525178698,
          0.9999887858297398,
          0.9999991516407312,
          1.0000292478083446,
          0.999975474923838,
          0.9999955973737212,
          1.0000119473966853,
          1.0000035633500317,
          0.9999872173227756,
          1.0000099981924309,
          0.9999921752460422,
          1.000010841094892,
          1.000008232134329,
          1.0000205384562593,
          0.9999947838201044,
          0.999987721913488,
          0.9999944949050188,
          0.9999752209710668,
          0.9999118450955649,
          0.9999951450791036,
          1.0000038718351372,
          1.0000057981082655,
          0.9999758861655412,
          1.0000306520365114,
          0.9999875886957224,
          0.9999940942619122,
          1.000000515291858,
          0.9999971331332956,
          0.99998276671394,
          1.000020691618794,
          0.9999975200820552,
          1.0000006499619,
          0.9999957887802212,
          0.9999975954310636,
          0.9999997948139772,
          1.0000003388078125,
          1.000000964335911,
          0.9999831869402512,
          1.0000014877429462,
          1.0000089592124528,
          1.0000089163400454,
          0.9999789513308116,
          1.0000153895870303,
          0.999985762759004,
          1.0000081303233592,
          1.0000135360290603,
          1.000051325546716,
          0.9999733877235464,
          0.9999896255376952,
          1.0000147659055187,
          0.9999925952096282,
          1.0000036289554315,
          1.0000027651981656,
          0.9999942952379396,
          0.9999962215739976,
          1.0000042154578894,
          1.000000264944177,
          0.999992182833773,
          0.9999958785101748,
          1.0000167893991476,
          0.9999834836149328,
          1.000002073712184,
          0.9999950602773432,
          0.99999449531246,
          1.0000205000661977,
          0.9999943942358368,
          0.9999962286247146,
          1.000002623621916,
          1.0000151649480655,
          0.999991136046568,
          0.9999959557916636,
          0.999985834209863,
          1.0000123703073118,
          1.000006819517246,
          1.0000032693236582,
          1.0000004823494717,
          0.999993530976082,
          0.9999879490180384,
          1.0000153603193658,
          1.000001367205889,
          0.9999850709387256,
          1.0000598979402933,
          0.9999829624923932,
          0.9999928841056644,
          1.000027156216884,
          1.0000025986564791,
          0.9999895477192164,
          0.9999997982449303,
          1.0000110972582663,
          1.0000027784005532,
          1.0000112484598986,
          0.9999843929381822,
          1.0000035646547456,
          1.0000045452497772,
          0.99998436000646,
          1.000024633242523,
          0.9999923757741952,
          0.9999868821347992,
          1.0000141936004407,
          0.9999976248619146,
          0.9999899830912682,
          1.000017764828444,
          0.9999834215336036,
          1.0000016825452982,
          0.9999840313555676,
          1.0000010971560078,
          0.9999948975412546,
          1.0000041795786008,
          1.000008341118606,
          1.0000054982821125,
          0.9999946429182144,
          1.000003417130186,
          1.000006314371933,
          0.9999991682269086,
          1.00001505896079,
          1.0000031072198383,
          0.999997467505706,
          0.9999965022345164,
          0.9999939299593816,
          1.0000074100774068,
          0.9999857675333396,
          0.9999797302174585,
          1.000000625655099,
          0.9999886308062104,
          0.9999932999847624,
          1.0000361460793266,
          0.9999796872362476,
          0.9999977422888984,
          0.9999899081308936,
          1.0000044233735783,
          0.9999917777948264,
          1.0000096263561706,
          0.9999964703057806,
          1.000005273373758,
          1.0000037326886717,
          0.9999964921786236,
          1.000000143029033,
          1.0000108337204576,
          0.9999772914846924,
          1.0000144297416558,
          1.000010690405396,
          0.9999977797189727,
          1.0000110684576513,
          0.9999900808996134,
          0.999997489146792,
          1.0000171881092468,
          1.0000087373679896,
          0.9999991755215172,
          1.0000045331655054,
          0.9999932496777852,
          0.9999961852013408,
          1.0000162245533286,
          1.0000064713417731,
          1.000003702210678
         ]
        },
        {
         "marker": {
          "color": "red",
          "size": 8,
          "symbol": "circle-open"
         },
         "mode": "markers",
         "name": "Transit",
         "type": "scatter",
         "x": [
          9,
          10,
          11,
          12,
          13,
          15,
          48,
          49,
          83
         ],
         "y": [
          0.9999768765446944,
          0.9999812014194362,
          0.9999842625026822,
          0.999978203124159,
          0.9999743482508772,
          0.9999624424795172,
          0.9999098887968864,
          0.999977173302144,
          0.9999118450955649
         ]
        }
       ],
       "layout": {
        "template": {
         "data": {
          "bar": [
           {
            "error_x": {
             "color": "#2a3f5f"
            },
            "error_y": {
             "color": "#2a3f5f"
            },
            "marker": {
             "line": {
              "color": "white",
              "width": 0.5
             },
             "pattern": {
              "fillmode": "overlay",
              "size": 10,
              "solidity": 0.2
             }
            },
            "type": "bar"
           }
          ],
          "barpolar": [
           {
            "marker": {
             "line": {
              "color": "white",
              "width": 0.5
             },
             "pattern": {
              "fillmode": "overlay",
              "size": 10,
              "solidity": 0.2
             }
            },
            "type": "barpolar"
           }
          ],
          "carpet": [
           {
            "aaxis": {
             "endlinecolor": "#2a3f5f",
             "gridcolor": "#C8D4E3",
             "linecolor": "#C8D4E3",
             "minorgridcolor": "#C8D4E3",
             "startlinecolor": "#2a3f5f"
            },
            "baxis": {
             "endlinecolor": "#2a3f5f",
             "gridcolor": "#C8D4E3",
             "linecolor": "#C8D4E3",
             "minorgridcolor": "#C8D4E3",
             "startlinecolor": "#2a3f5f"
            },
            "type": "carpet"
           }
          ],
          "choropleth": [
           {
            "colorbar": {
             "outlinewidth": 0,
             "ticks": ""
            },
            "type": "choropleth"
           }
          ],
          "contour": [
           {
            "colorbar": {
             "outlinewidth": 0,
             "ticks": ""
            },
            "colorscale": [
             [
              0,
              "#0d0887"
             ],
             [
              0.1111111111111111,
              "#46039f"
             ],
             [
              0.2222222222222222,
              "#7201a8"
             ],
             [
              0.3333333333333333,
              "#9c179e"
             ],
             [
              0.4444444444444444,
              "#bd3786"
             ],
             [
              0.5555555555555556,
              "#d8576b"
             ],
             [
              0.6666666666666666,
              "#ed7953"
             ],
             [
              0.7777777777777778,
              "#fb9f3a"
             ],
             [
              0.8888888888888888,
              "#fdca26"
             ],
             [
              1,
              "#f0f921"
             ]
            ],
            "type": "contour"
           }
          ],
          "contourcarpet": [
           {
            "colorbar": {
             "outlinewidth": 0,
             "ticks": ""
            },
            "type": "contourcarpet"
           }
          ],
          "heatmap": [
           {
            "colorbar": {
             "outlinewidth": 0,
             "ticks": ""
            },
            "colorscale": [
             [
              0,
              "#0d0887"
             ],
             [
              0.1111111111111111,
              "#46039f"
             ],
             [
              0.2222222222222222,
              "#7201a8"
             ],
             [
              0.3333333333333333,
              "#9c179e"
             ],
             [
              0.4444444444444444,
              "#bd3786"
             ],
             [
              0.5555555555555556,
              "#d8576b"
             ],
             [
              0.6666666666666666,
              "#ed7953"
             ],
             [
              0.7777777777777778,
              "#fb9f3a"
             ],
             [
              0.8888888888888888,
              "#fdca26"
             ],
             [
              1,
              "#f0f921"
             ]
            ],
            "type": "heatmap"
           }
          ],
          "heatmapgl": [
           {
            "colorbar": {
             "outlinewidth": 0,
             "ticks": ""
            },
            "colorscale": [
             [
              0,
              "#0d0887"
             ],
             [
              0.1111111111111111,
              "#46039f"
             ],
             [
              0.2222222222222222,
              "#7201a8"
             ],
             [
              0.3333333333333333,
              "#9c179e"
             ],
             [
              0.4444444444444444,
              "#bd3786"
             ],
             [
              0.5555555555555556,
              "#d8576b"
             ],
             [
              0.6666666666666666,
              "#ed7953"
             ],
             [
              0.7777777777777778,
              "#fb9f3a"
             ],
             [
              0.8888888888888888,
              "#fdca26"
             ],
             [
              1,
              "#f0f921"
             ]
            ],
            "type": "heatmapgl"
           }
          ],
          "histogram": [
           {
            "marker": {
             "pattern": {
              "fillmode": "overlay",
              "size": 10,
              "solidity": 0.2
             }
            },
            "type": "histogram"
           }
          ],
          "histogram2d": [
           {
            "colorbar": {
             "outlinewidth": 0,
             "ticks": ""
            },
            "colorscale": [
             [
              0,
              "#0d0887"
             ],
             [
              0.1111111111111111,
              "#46039f"
             ],
             [
              0.2222222222222222,
              "#7201a8"
             ],
             [
              0.3333333333333333,
              "#9c179e"
             ],
             [
              0.4444444444444444,
              "#bd3786"
             ],
             [
              0.5555555555555556,
              "#d8576b"
             ],
             [
              0.6666666666666666,
              "#ed7953"
             ],
             [
              0.7777777777777778,
              "#fb9f3a"
             ],
             [
              0.8888888888888888,
              "#fdca26"
             ],
             [
              1,
              "#f0f921"
             ]
            ],
            "type": "histogram2d"
           }
          ],
          "histogram2dcontour": [
           {
            "colorbar": {
             "outlinewidth": 0,
             "ticks": ""
            },
            "colorscale": [
             [
              0,
              "#0d0887"
             ],
             [
              0.1111111111111111,
              "#46039f"
             ],
             [
              0.2222222222222222,
              "#7201a8"
             ],
             [
              0.3333333333333333,
              "#9c179e"
             ],
             [
              0.4444444444444444,
              "#bd3786"
             ],
             [
              0.5555555555555556,
              "#d8576b"
             ],
             [
              0.6666666666666666,
              "#ed7953"
             ],
             [
              0.7777777777777778,
              "#fb9f3a"
             ],
             [
              0.8888888888888888,
              "#fdca26"
             ],
             [
              1,
              "#f0f921"
             ]
            ],
            "type": "histogram2dcontour"
           }
          ],
          "mesh3d": [
           {
            "colorbar": {
             "outlinewidth": 0,
             "ticks": ""
            },
            "type": "mesh3d"
           }
          ],
          "parcoords": [
           {
            "line": {
             "colorbar": {
              "outlinewidth": 0,
              "ticks": ""
             }
            },
            "type": "parcoords"
           }
          ],
          "pie": [
           {
            "automargin": true,
            "type": "pie"
           }
          ],
          "scatter": [
           {
            "fillpattern": {
             "fillmode": "overlay",
             "size": 10,
             "solidity": 0.2
            },
            "type": "scatter"
           }
          ],
          "scatter3d": [
           {
            "line": {
             "colorbar": {
              "outlinewidth": 0,
              "ticks": ""
             }
            },
            "marker": {
             "colorbar": {
              "outlinewidth": 0,
              "ticks": ""
             }
            },
            "type": "scatter3d"
           }
          ],
          "scattercarpet": [
           {
            "marker": {
             "colorbar": {
              "outlinewidth": 0,
              "ticks": ""
             }
            },
            "type": "scattercarpet"
           }
          ],
          "scattergeo": [
           {
            "marker": {
             "colorbar": {
              "outlinewidth": 0,
              "ticks": ""
             }
            },
            "type": "scattergeo"
           }
          ],
          "scattergl": [
           {
            "marker": {
             "colorbar": {
              "outlinewidth": 0,
              "ticks": ""
             }
            },
            "type": "scattergl"
           }
          ],
          "scattermapbox": [
           {
            "marker": {
             "colorbar": {
              "outlinewidth": 0,
              "ticks": ""
             }
            },
            "type": "scattermapbox"
           }
          ],
          "scatterpolar": [
           {
            "marker": {
             "colorbar": {
              "outlinewidth": 0,
              "ticks": ""
             }
            },
            "type": "scatterpolar"
           }
          ],
          "scatterpolargl": [
           {
            "marker": {
             "colorbar": {
              "outlinewidth": 0,
              "ticks": ""
             }
            },
            "type": "scatterpolargl"
           }
          ],
          "scatterternary": [
           {
            "marker": {
             "colorbar": {
              "outlinewidth": 0,
              "ticks": ""
             }
            },
            "type": "scatterternary"
           }
          ],
          "surface": [
           {
            "colorbar": {
             "outlinewidth": 0,
             "ticks": ""
            },
            "colorscale": [
             [
              0,
              "#0d0887"
             ],
             [
              0.1111111111111111,
              "#46039f"
             ],
             [
              0.2222222222222222,
              "#7201a8"
             ],
             [
              0.3333333333333333,
              "#9c179e"
             ],
             [
              0.4444444444444444,
              "#bd3786"
             ],
             [
              0.5555555555555556,
              "#d8576b"
             ],
             [
              0.6666666666666666,
              "#ed7953"
             ],
             [
              0.7777777777777778,
              "#fb9f3a"
             ],
             [
              0.8888888888888888,
              "#fdca26"
             ],
             [
              1,
              "#f0f921"
             ]
            ],
            "type": "surface"
           }
          ],
          "table": [
           {
            "cells": {
             "fill": {
              "color": "#EBF0F8"
             },
             "line": {
              "color": "white"
             }
            },
            "header": {
             "fill": {
              "color": "#C8D4E3"
             },
             "line": {
              "color": "white"
             }
            },
            "type": "table"
           }
          ]
         },
         "layout": {
          "annotationdefaults": {
           "arrowcolor": "#2a3f5f",
           "arrowhead": 0,
           "arrowwidth": 1
          },
          "autotypenumbers": "strict",
          "coloraxis": {
           "colorbar": {
            "outlinewidth": 0,
            "ticks": ""
           }
          },
          "colorscale": {
           "diverging": [
            [
             0,
             "#8e0152"
            ],
            [
             0.1,
             "#c51b7d"
            ],
            [
             0.2,
             "#de77ae"
            ],
            [
             0.3,
             "#f1b6da"
            ],
            [
             0.4,
             "#fde0ef"
            ],
            [
             0.5,
             "#f7f7f7"
            ],
            [
             0.6,
             "#e6f5d0"
            ],
            [
             0.7,
             "#b8e186"
            ],
            [
             0.8,
             "#7fbc41"
            ],
            [
             0.9,
             "#4d9221"
            ],
            [
             1,
             "#276419"
            ]
           ],
           "sequential": [
            [
             0,
             "#0d0887"
            ],
            [
             0.1111111111111111,
             "#46039f"
            ],
            [
             0.2222222222222222,
             "#7201a8"
            ],
            [
             0.3333333333333333,
             "#9c179e"
            ],
            [
             0.4444444444444444,
             "#bd3786"
            ],
            [
             0.5555555555555556,
             "#d8576b"
            ],
            [
             0.6666666666666666,
             "#ed7953"
            ],
            [
             0.7777777777777778,
             "#fb9f3a"
            ],
            [
             0.8888888888888888,
             "#fdca26"
            ],
            [
             1,
             "#f0f921"
            ]
           ],
           "sequentialminus": [
            [
             0,
             "#0d0887"
            ],
            [
             0.1111111111111111,
             "#46039f"
            ],
            [
             0.2222222222222222,
             "#7201a8"
            ],
            [
             0.3333333333333333,
             "#9c179e"
            ],
            [
             0.4444444444444444,
             "#bd3786"
            ],
            [
             0.5555555555555556,
             "#d8576b"
            ],
            [
             0.6666666666666666,
             "#ed7953"
            ],
            [
             0.7777777777777778,
             "#fb9f3a"
            ],
            [
             0.8888888888888888,
             "#fdca26"
            ],
            [
             1,
             "#f0f921"
            ]
           ]
          },
          "colorway": [
           "#636efa",
           "#EF553B",
           "#00cc96",
           "#ab63fa",
           "#FFA15A",
           "#19d3f3",
           "#FF6692",
           "#B6E880",
           "#FF97FF",
           "#FECB52"
          ],
          "font": {
           "color": "#2a3f5f"
          },
          "geo": {
           "bgcolor": "white",
           "lakecolor": "white",
           "landcolor": "white",
           "showlakes": true,
           "showland": true,
           "subunitcolor": "#C8D4E3"
          },
          "hoverlabel": {
           "align": "left"
          },
          "hovermode": "closest",
          "mapbox": {
           "style": "light"
          },
          "paper_bgcolor": "white",
          "plot_bgcolor": "white",
          "polar": {
           "angularaxis": {
            "gridcolor": "#EBF0F8",
            "linecolor": "#EBF0F8",
            "ticks": ""
           },
           "bgcolor": "white",
           "radialaxis": {
            "gridcolor": "#EBF0F8",
            "linecolor": "#EBF0F8",
            "ticks": ""
           }
          },
          "scene": {
           "xaxis": {
            "backgroundcolor": "white",
            "gridcolor": "#DFE8F3",
            "gridwidth": 2,
            "linecolor": "#EBF0F8",
            "showbackground": true,
            "ticks": "",
            "zerolinecolor": "#EBF0F8"
           },
           "yaxis": {
            "backgroundcolor": "white",
            "gridcolor": "#DFE8F3",
            "gridwidth": 2,
            "linecolor": "#EBF0F8",
            "showbackground": true,
            "ticks": "",
            "zerolinecolor": "#EBF0F8"
           },
           "zaxis": {
            "backgroundcolor": "white",
            "gridcolor": "#DFE8F3",
            "gridwidth": 2,
            "linecolor": "#EBF0F8",
            "showbackground": true,
            "ticks": "",
            "zerolinecolor": "#EBF0F8"
           }
          },
          "shapedefaults": {
           "line": {
            "color": "#2a3f5f"
           }
          },
          "ternary": {
           "aaxis": {
            "gridcolor": "#DFE8F3",
            "linecolor": "#A2B1C6",
            "ticks": ""
           },
           "baxis": {
            "gridcolor": "#DFE8F3",
            "linecolor": "#A2B1C6",
            "ticks": ""
           },
           "bgcolor": "white",
           "caxis": {
            "gridcolor": "#DFE8F3",
            "linecolor": "#A2B1C6",
            "ticks": ""
           }
          },
          "title": {
           "x": 0.05
          },
          "xaxis": {
           "automargin": true,
           "gridcolor": "#EBF0F8",
           "linecolor": "#EBF0F8",
           "ticks": "",
           "title": {
            "standoff": 15
           },
           "zerolinecolor": "#EBF0F8",
           "zerolinewidth": 2
          },
          "yaxis": {
           "automargin": true,
           "gridcolor": "#EBF0F8",
           "linecolor": "#EBF0F8",
           "ticks": "",
           "title": {
            "standoff": 15
           },
           "zerolinecolor": "#EBF0F8",
           "zerolinewidth": 2
          }
         }
        },
        "title": {
         "text": "Segmented Lightcurve for Kepler-10"
        },
        "xaxis": {
         "title": {
          "text": "Segment Index"
         }
        },
        "yaxis": {
         "title": {
          "text": "Normalized Flux"
         }
        }
       }
      }
     },
     "metadata": {},
     "output_type": "display_data"
    }
   ],
   "source": [
    "\n",
    "df = pd.read_csv(\"transit_segments_all.csv\")\n",
    "\n",
    "\n",
    "target = \"Kepler-10\"\n",
    "df_target = df[df[\"target_id\"] == target]\n",
    "\n",
    "\n",
    "fig = go.Figure()\n",
    "\n",
    "\n",
    "fig.add_trace(go.Scatter(\n",
    "    x=df_target.index,\n",
    "    y=df_target[\"mean_flux\"],\n",
    "    mode='lines+markers',\n",
    "    name='Mean Flux',\n",
    "    line=dict(color='blue'),\n",
    "    marker=dict(size=6)\n",
    "))\n",
    "\n",
    "\n",
    "transit_segments = df_target[df_target[\"label\"] == 1]\n",
    "fig.add_trace(go.Scatter(\n",
    "    x=transit_segments.index,\n",
    "    y=transit_segments[\"mean_flux\"],\n",
    "    mode='markers',\n",
    "    name='Transit',\n",
    "    marker=dict(color='red', size=8, symbol='circle-open')\n",
    "))\n",
    "\n",
    "fig.update_layout(\n",
    "    title=f\"Segmented Lightcurve for {target}\",\n",
    "    xaxis_title=\"Segment Index\",\n",
    "    yaxis_title=\"Normalized Flux\",\n",
    "    template=\"plotly_white\"\n",
    ")\n",
    "\n",
    "fig.show()"
   ]
  }
 ],
 "metadata": {
  "kernelspec": {
   "display_name": "Python 3",
   "language": "python",
   "name": "python3"
  },
  "language_info": {
   "codemirror_mode": {
    "name": "ipython",
    "version": 3
   },
   "file_extension": ".py",
   "mimetype": "text/x-python",
   "name": "python",
   "nbconvert_exporter": "python",
   "pygments_lexer": "ipython3",
   "version": "3.10.9"
  }
 },
 "nbformat": 4,
 "nbformat_minor": 5
}
