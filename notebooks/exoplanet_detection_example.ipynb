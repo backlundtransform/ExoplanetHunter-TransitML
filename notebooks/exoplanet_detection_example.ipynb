{
 "cells": [
  {
   "cell_type": "markdown",
   "metadata": {},
   "source": [
    "# Exoplanet Detection using Machine Learning on Transit Data\n",
    "\n",
    "This notebook demonstrates how to use machine learning techniques to detect exoplanets from transit light curves using the ExoplanetHunter-TransitML package.\n",
    "\n",
    "## Overview\n",
    "\n",
    "We'll walk through the complete pipeline:\n",
    "1. Loading transit data using lightkurve\n",
    "2. Preprocessing the light curves\n",
    "3. Creating features for machine learning\n",
    "4. Training ML models for transit detection\n",
    "5. Validating results using time series cross-validation\n",
    "\n",
    "## Requirements\n",
    "\n",
    "Make sure you have installed all required packages:\n",
    "```bash\n",
    "pip install -r requirements.txt\n",
    "```"
   ]
  },
  {
   "cell_type": "code",
   "execution_count": 5,
   "metadata": {},
   "outputs": [
    {
     "name": "stdout",
     "output_type": "stream",
     "text": [
      "C:\\Users\\goran.backlund\\AppData\\Local\\Microsoft\\WindowsApps\\PythonSoftwareFoundation.Python.3.10_qbz5n2kfra8p0\\python.exe\n"
     ]
    }
   ],
   "source": [
    "import sys\n",
    "print(sys.executable)"
   ]
  },
  {
   "cell_type": "code",
   "execution_count": 1,
   "metadata": {},
   "outputs": [
    {
     "name": "stdout",
     "output_type": "stream",
     "text": [
      "All imports successful!\n"
     ]
    }
   ],
   "source": [
    "# Import required libraries\n",
    "import numpy as np\n",
    "\n",
    "import pandas as pd\n",
    "import matplotlib.pyplot as plt\n",
    "import seaborn as sns\n",
    "from pathlib import Path\n",
    "import sys\n",
    "\n",
    "# Add src directory to path\n",
    "sys.path.append('../src')\n",
    "\n",
    "# Import our custom modules\n",
    "from exoplanet_hunter import (\n",
    "    TransitDataLoader,\n",
    "    TransitPreprocessor,\n",
    "    TransitClassifier,\n",
    "    GroupedTimeSeriesValidator\n",
    ")\n",
    "\n",
    "# Set up plotting\n",
    "plt.style.use('seaborn-v0_8')\n",
    "plt.rcParams['figure.figsize'] = (12, 8)\n",
    "\n",
    "print(\"All imports successful!\")"
   ]
  },
  {
   "cell_type": "markdown",
   "metadata": {},
   "source": [
    "## 1. Data Loading\n",
    "\n",
    "Let's start by loading some transit data using lightkurve. We'll use known exoplanet host stars for our demonstration."
   ]
  },
  {
   "cell_type": "code",
   "execution_count": null,
   "metadata": {},
   "outputs": [],
   "source": [
    "# Initialize data loader\n",
    "data_loader = TransitDataLoader(cache_dir='../data/cache')\n",
    "\n",
    "# Get list of known exoplanet targets\n",
    "targets = data_loader.get_known_exoplanet_targets(max_targets=3)\n",
    "print(f\"Selected targets: {targets}\")\n",
    "\n",
    "# Load light curves for these targets\n",
    "light_curves = data_loader.load_multiple_targets(targets, mission=\"TESS\")\n",
    "\n",
    "print(f\"\\nSuccessfully loaded {len(light_curves)} light curves\")\n",
    "for target, lc in light_curves.items():\n",
    "    print(f\"  {target}: {len(lc)} data points\")"
   ]
  },
  {
   "cell_type": "code",
   "execution_count": null,
   "metadata": {},
   "outputs": [],
   "source": [
    "# Plot raw light curves\n",
    "fig, axes = plt.subplots(len(light_curves), 1, figsize=(15, 4*len(light_curves)))\n",
    "if len(light_curves) == 1:\n",
    "    axes = [axes]\n",
    "\n",
    "for i, (target, lc) in enumerate(light_curves.items()):\n",
    "    lc.plot(ax=axes[i])\n",
    "    axes[i].set_title(f\"Raw Light Curve: {target}\")\n",
    "    axes[i].set_ylabel(\"Flux\")\n",
    "\n",
    "plt.tight_layout()\n",
    "plt.show()"
   ]
  },
  {
   "cell_type": "markdown",
   "metadata": {},
   "source": [
    "## 2. Data Preprocessing\n",
    "\n",
    "Now let's preprocess the light curves to prepare them for machine learning analysis."
   ]
  },
  {
   "cell_type": "code",
   "execution_count": null,
   "metadata": {},
   "outputs": [],
   "source": [
    "# Initialize preprocessor\n",
    "preprocessor = TransitPreprocessor(\n",
    "    detrend_method=\"biweight\",\n",
    "    outlier_sigma=5.0,\n",
    "    normalization_method=\"robust\"\n",
    ")\n",
    "\n",
    "# Process each light curve\n",
    "processed_data = {}\n",
    "\n",
    "for target, lc in light_curves.items():\n",
    "    print(f\"\\nProcessing {target}...\")\n",
    "    \n",
    "    # Extract features from light curve\n",
    "    df = data_loader.extract_features_from_lightcurve(lc)\n",
    "    \n",
    "    # Apply preprocessing pipeline\n",
    "    processed_df = preprocessor.process_light_curve(df, create_features=True)\n",
    "    \n",
    "    # Add target identifier\n",
    "    processed_df['target'] = target\n",
    "    \n",
    "    processed_data[target] = processed_df\n",
    "\n",
    "print(\"\\nPreprocessing completed!\")"
   ]
  },
  {
   "cell_type": "code",
   "execution_count": null,
   "metadata": {},
   "outputs": [],
   "source": [
    "# Plot processed light curves\n",
    "fig, axes = plt.subplots(len(processed_data), 2, figsize=(20, 4*len(processed_data)))\n",
    "if len(processed_data) == 1:\n",
    "    axes = axes.reshape(1, -1)\n",
    "\n",
    "for i, (target, df) in enumerate(processed_data.items()):\n",
    "    # Original flux\n",
    "    axes[i, 0].scatter(df['time'], df['original_flux'], alpha=0.6, s=1)\n",
    "    axes[i, 0].set_title(f\"Original Flux: {target}\")\n",
    "    axes[i, 0].set_xlabel(\"Time (days)\")\n",
    "    axes[i, 0].set_ylabel(\"Flux\")\n",
    "    \n",
    "    # Processed flux\n",
    "    axes[i, 1].scatter(df['time'], df['flux'], alpha=0.6, s=1, color='red')\n",
    "    axes[i, 1].set_title(f\"Processed Flux: {target}\")\n",
    "    axes[i, 1].set_xlabel(\"Time (days)\")\n",
    "    axes[i, 1].set_ylabel(\"Normalized Flux\")\n",
    "\n",
    "plt.tight_layout()\n",
    "plt.show()"
   ]
  },
  {
   "cell_type": "markdown",
   "metadata": {},
   "source": [
    "## 3. Feature Engineering and Label Creation\n",
    "\n",
    "Let's create labels for transit detection and examine our features."
   ]
  },
  {
   "cell_type": "code",
   "execution_count": null,
   "metadata": {},
   "outputs": [],
   "source": [
    "# Combine all processed data\n",
    "combined_df = pd.concat(processed_data.values(), ignore_index=True)\n",
    "\n",
    "print(f\"Combined dataset shape: {combined_df.shape}\")\n",
    "print(f\"Available columns: {list(combined_df.columns)}\")\n",
    "print(f\"\\nTargets in dataset: {combined_df['target'].value_counts()}\")"
   ]
  },
  {
   "cell_type": "code",
   "execution_count": null,
   "metadata": {},
   "outputs": [],
   "source": [
    "# Initialize classifier to create labels\n",
    "classifier = TransitClassifier(model_type=\"random_forest\")\n",
    "\n",
    "# Create transit labels for each target\n",
    "all_labels = []\n",
    "\n",
    "for target in combined_df['target'].unique():\n",
    "    target_data = combined_df[combined_df['target'] == target]\n",
    "    \n",
    "    # Create labels based on flux dips\n",
    "    labels = classifier.create_transit_labels(\n",
    "        target_data['time'].values,\n",
    "        target_data['flux'].values,\n",
    "        transit_threshold=0.01,  # 1% flux dip\n",
    "        window_size=5\n",
    "    )\n",
    "    \n",
    "    all_labels.extend(labels)\n",
    "    print(f\"{target}: {labels.sum()} transits detected out of {len(labels)} points ({labels.mean()*100:.2f}%)\")\n",
    "\n",
    "# Add labels to dataset\n",
    "combined_df['has_transit'] = all_labels\n",
    "\n",
    "print(f\"\\nTotal transits: {combined_df['has_transit'].sum()} out of {len(combined_df)} points\")\n",
    "print(f\"Transit rate: {combined_df['has_transit'].mean()*100:.2f}%\")"
   ]
  },
  {
   "cell_type": "code",
   "execution_count": null,
   "metadata": {},
   "outputs": [],
   "source": [
    "# Visualize detected transits\n",
    "fig, axes = plt.subplots(len(processed_data), 1, figsize=(15, 4*len(processed_data)))\n",
    "if len(processed_data) == 1:\n",
    "    axes = [axes]\n",
    "\n",
    "for i, target in enumerate(combined_df['target'].unique()):\n",
    "    target_data = combined_df[combined_df['target'] == target]\n",
    "    \n",
    "    # Plot all points\n",
    "    axes[i].scatter(target_data['time'], target_data['flux'], \n",
    "                   c='blue', alpha=0.6, s=1, label='Normal')\n",
    "    \n",
    "    # Highlight transits\n",
    "    transit_data = target_data[target_data['has_transit'] == 1]\n",
    "    if len(transit_data) > 0:\n",
    "        axes[i].scatter(transit_data['time'], transit_data['flux'], \n",
    "                       c='red', s=10, label='Transit')\n",
    "    \n",
    "    axes[i].set_title(f\"Transit Detection: {target}\")\n",
    "    axes[i].set_xlabel(\"Time (days)\")\n",
    "    axes[i].set_ylabel(\"Normalized Flux\")\n",
    "    axes[i].legend()\n",
    "\n",
    "plt.tight_layout()\n",
    "plt.show()"
   ]
  },
  {
   "cell_type": "markdown",
   "metadata": {},
   "source": [
    "## 4. Machine Learning Model Training\n",
    "\n",
    "Now let's train different ML models to detect transits."
   ]
  },
  {
   "cell_type": "code",
   "execution_count": null,
   "metadata": {},
   "outputs": [],
   "source": [
    "# Prepare data for training\n",
    "print(\"Feature columns available for training:\")\n",
    "feature_cols = [col for col in combined_df.columns if col not in ['time', 'target', 'has_transit', 'original_flux']]\n",
    "print(feature_cols)\n",
    "\n",
    "# Check for any missing values\n",
    "print(f\"\\nMissing values per column:\")\n",
    "print(combined_df[feature_cols + ['has_transit']].isnull().sum())"
   ]
  },
  {
   "cell_type": "code",
   "execution_count": null,
   "metadata": {},
   "outputs": [],
   "source": [
    "# Train different types of models\n",
    "model_types = ['random_forest', 'gradient_boosting', 'logistic']\n",
    "trained_models = {}\n",
    "training_results = {}\n",
    "\n",
    "for model_type in model_types:\n",
    "    print(f\"\\n{'='*50}\")\n",
    "    print(f\"Training {model_type.upper()} model\")\n",
    "    print(f\"{'='*50}\")\n",
    "    \n",
    "    # Initialize and train model\n",
    "    model = TransitClassifier(model_type=model_type)\n",
    "    results = model.train(combined_df, target_column='has_transit')\n",
    "    \n",
    "    trained_models[model_type] = model\n",
    "    training_results[model_type] = results\n",
    "    \n",
    "    print(f\"\\nTraining Results for {model_type}:\")\n",
    "    print(f\"Accuracy: {results['training_accuracy']:.3f}\")\n",
    "    if 'training_auc' in results:\n",
    "        print(f\"AUC: {results['training_auc']:.3f}\")\n",
    "    \n",
    "    # Show feature importance if available\n",
    "    if 'feature_importance' in results:\n",
    "        print(\"\\nTop 5 most important features:\")\n",
    "        print(results['feature_importance'].head())"
   ]
  },
  {
   "cell_type": "code",
   "execution_count": null,
   "metadata": {},
   "outputs": [],
   "source": [
    "# Plot feature importance for tree-based models\n",
    "fig, axes = plt.subplots(1, 2, figsize=(20, 6))\n",
    "\n",
    "for i, model_type in enumerate(['random_forest', 'gradient_boosting']):\n",
    "    if model_type in training_results and 'feature_importance' in training_results[model_type]:\n",
    "        importance_df = training_results[model_type]['feature_importance'].head(10)\n",
    "        \n",
    "        axes[i].barh(range(len(importance_df)), importance_df['importance'])\n",
    "        axes[i].set_yticks(range(len(importance_df)))\n",
    "        axes[i].set_yticklabels(importance_df['feature'])\n",
    "        axes[i].set_xlabel('Feature Importance')\n",
    "        axes[i].set_title(f'Feature Importance - {model_type.title()}')\n",
    "        axes[i].invert_yaxis()\n",
    "\n",
    "plt.tight_layout()\n",
    "plt.show()"
   ]
  },
  {
   "cell_type": "markdown",
   "metadata": {},
   "source": [
    "## 5. Time Series Cross-Validation\n",
    "\n",
    "Let's properly validate our models using time series cross-validation to account for the temporal nature of the data."
   ]
  },
  {
   "cell_type": "code",
   "execution_count": null,
   "metadata": {},
   "outputs": [],
   "source": [
    "# Initialize validator\n",
    "validator = GroupedTimeSeriesValidator(\n",
    "    n_splits=3,  # Use fewer splits for demonstration\n",
    "    group_column='target'\n",
    ")\n",
    "\n",
    "# Prepare data for validation\n",
    "X = combined_df[feature_cols].values\n",
    "y = combined_df['has_transit'].values\n",
    "groups = combined_df['target'].values\n",
    "\n",
    "print(f\"Validation data shape: X={X.shape}, y={y.shape}\")\n",
    "print(f\"Class distribution: {np.bincount(y)}\")"
   ]
  },
  {
   "cell_type": "code",
   "execution_count": null,
   "metadata": {},
   "outputs": [],
   "source": [
    "# Validate each model\n",
    "validation_results = {}\n",
    "\n",
    "for model_type, model in trained_models.items():\n",
    "    print(f\"\\n{'='*50}\")\n",
    "    print(f\"Validating {model_type.upper()} model\")\n",
    "    print(f\"{'='*50}\")\n",
    "    \n",
    "    # Perform time series cross-validation\n",
    "    cv_results = validator.validate_model(\n",
    "        model.model, X, y, groups=groups,\n",
    "        scoring_metrics=['accuracy', 'precision', 'recall', 'f1', 'roc_auc']\n",
    "    )\n",
    "    \n",
    "    validation_results[model_type] = cv_results\n",
    "    \n",
    "    # Print summary\n",
    "    summary = cv_results['summary']\n",
    "    print(f\"\\nCross-Validation Results:\")\n",
    "    for metric in ['accuracy', 'precision', 'recall', 'f1', 'roc_auc']:\n",
    "        mean_key = f'{metric}_mean'\n",
    "        std_key = f'{metric}_std'\n",
    "        if mean_key in summary:\n",
    "            print(f\"{metric.capitalize()}: {summary[mean_key]:.3f} ± {summary[std_key]:.3f}\")"
   ]
  },
  {
   "cell_type": "code",
   "execution_count": null,
   "metadata": {},
   "outputs": [],
   "source": [
    "# Compare model performance\n",
    "comparison_data = []\n",
    "\n",
    "for model_type, results in validation_results.items():\n",
    "    summary = results['summary']\n",
    "    comparison_data.append({\n",
    "        'Model': model_type.title(),\n",
    "        'Accuracy': summary.get('accuracy_mean', np.nan),\n",
    "        'Precision': summary.get('precision_mean', np.nan),\n",
    "        'Recall': summary.get('recall_mean', np.nan),\n",
    "        'F1': summary.get('f1_mean', np.nan),\n",
    "        'ROC AUC': summary.get('roc_auc_mean', np.nan)\n",
    "    })\n",
    "\n",
    "comparison_df = pd.DataFrame(comparison_data)\n",
    "print(\"\\nModel Comparison (Cross-Validation Scores):\")\n",
    "print(comparison_df.round(3))"
   ]
  },
  {
   "cell_type": "code",
   "execution_count": null,
   "metadata": {},
   "outputs": [],
   "source": [
    "# Visualize model comparison\n",
    "metrics_to_plot = ['Accuracy', 'Precision', 'Recall', 'F1']\n",
    "n_metrics = len(metrics_to_plot)\n",
    "\n",
    "fig, axes = plt.subplots(1, n_metrics, figsize=(5*n_metrics, 6))\n",
    "\n",
    "for i, metric in enumerate(metrics_to_plot):\n",
    "    comparison_df.plot(x='Model', y=metric, kind='bar', ax=axes[i], \n",
    "                      color=['skyblue', 'lightcoral', 'lightgreen'])\n",
    "    axes[i].set_title(f'{metric} Comparison')\n",
    "    axes[i].set_ylabel(metric)\n",
    "    axes[i].set_ylim(0, 1)\n",
    "    axes[i].tick_params(axis='x', rotation=45)\n",
    "    axes[i].legend().remove()\n",
    "\n",
    "plt.tight_layout()\n",
    "plt.show()"
   ]
  },
  {
   "cell_type": "markdown",
   "metadata": {},
   "source": [
    "## 6. Final Evaluation and Insights\n",
    "\n",
    "Let's create a final evaluation using a temporal split and analyze our results."
   ]
  },
  {
   "cell_type": "code",
   "execution_count": null,
   "metadata": {},
   "outputs": [],
   "source": [
    "# Create temporal train-test split\n",
    "train_df, test_df = validator.temporal_validation_split(\n",
    "    combined_df, time_column='time', test_ratio=0.3\n",
    ")\n",
    "\n",
    "# Select best model based on cross-validation F1 score\n",
    "best_model_type = comparison_df.loc[comparison_df['F1'].idxmax(), 'Model'].lower().replace(' ', '_')\n",
    "best_model = trained_models[best_model_type]\n",
    "\n",
    "print(f\"Best model: {best_model_type}\")\n",
    "print(f\"Best F1 score: {comparison_df['F1'].max():.3f}\")"
   ]
  },
  {
   "cell_type": "code",
   "execution_count": null,
   "metadata": {},
   "outputs": [],
   "source": [
    "# Retrain best model on training data\n",
    "print(\"Retraining best model on temporal training split...\")\n",
    "retrain_results = best_model.train(train_df, target_column='has_transit')\n",
    "\n",
    "# Make predictions on test set\n",
    "test_predictions, test_probabilities = best_model.predict(test_df)\n",
    "\n",
    "# Evaluate final performance\n",
    "final_metrics = validator.evaluate_predictions(\n",
    "    test_df['has_transit'].values, \n",
    "    test_predictions, \n",
    "    test_probabilities\n",
    ")\n",
    "\n",
    "validator.print_evaluation_report(final_metrics)"
   ]
  },
  {
   "cell_type": "code",
   "execution_count": null,
   "metadata": {},
   "outputs": [],
   "source": [
    "# Visualize final results\n",
    "fig, axes = plt.subplots(2, 2, figsize=(15, 10))\n",
    "\n",
    "# 1. Test set predictions over time\n",
    "axes[0, 0].scatter(test_df['time'], test_df['flux'], c='blue', alpha=0.6, s=1, label='Normal')\n",
    "transit_mask = test_predictions == 1\n",
    "if np.any(transit_mask):\n",
    "    axes[0, 0].scatter(test_df.iloc[transit_mask]['time'], \n",
    "                      test_df.iloc[transit_mask]['flux'], \n",
    "                      c='red', s=10, label='Predicted Transit')\n",
    "axes[0, 0].set_title('Final Model Predictions on Test Set')\n",
    "axes[0, 0].set_xlabel('Time (days)')\n",
    "axes[0, 0].set_ylabel('Normalized Flux')\n",
    "axes[0, 0].legend()\n",
    "\n",
    "# 2. Prediction probabilities histogram\n",
    "axes[0, 1].hist(test_probabilities, bins=50, alpha=0.7, edgecolor='black')\n",
    "axes[0, 1].axvline(x=0.5, color='red', linestyle='--', label='Decision Threshold')\n",
    "axes[0, 1].set_title('Distribution of Prediction Probabilities')\n",
    "axes[0, 1].set_xlabel('Transit Probability')\n",
    "axes[0, 1].set_ylabel('Frequency')\n",
    "axes[0, 1].legend()\n",
    "\n",
    "# 3. True vs predicted scatter plot\n",
    "axes[1, 0].scatter(test_df['has_transit'], test_probabilities, alpha=0.6)\n",
    "axes[1, 0].set_xlabel('True Labels')\n",
    "axes[1, 0].set_ylabel('Predicted Probabilities')\n",
    "axes[1, 0].set_title('True Labels vs Predicted Probabilities')\n",
    "axes[1, 0].set_xticks([0, 1])\n",
    "axes[1, 0].set_xticklabels(['No Transit', 'Transit'])\n",
    "\n",
    "# 4. Performance metrics bar chart\n",
    "metrics_names = ['Accuracy', 'Precision', 'Recall', 'F1']\n",
    "metrics_values = [final_metrics['accuracy'], final_metrics['precision'], \n",
    "                 final_metrics['recall'], final_metrics['f1']]\n",
    "axes[1, 1].bar(metrics_names, metrics_values, color=['skyblue', 'lightcoral', 'lightgreen', 'gold'])\n",
    "axes[1, 1].set_title('Final Model Performance')\n",
    "axes[1, 1].set_ylabel('Score')\n",
    "axes[1, 1].set_ylim(0, 1)\n",
    "\n",
    "plt.tight_layout()\n",
    "plt.show()"
   ]
  },
  {
   "cell_type": "markdown",
   "metadata": {},
   "source": [
    "## 7. Summary and Conclusions\n",
    "\n",
    "This notebook demonstrated a complete machine learning pipeline for exoplanet detection from transit data:\n",
    "\n",
    "### Key Steps:\n",
    "1. **Data Loading**: Used lightkurve to download real TESS light curves\n",
    "2. **Preprocessing**: Applied detrending, outlier removal, and normalization\n",
    "3. **Feature Engineering**: Created time-based features and transit labels\n",
    "4. **Model Training**: Trained multiple ML models (Random Forest, Gradient Boosting, Logistic Regression)\n",
    "5. **Validation**: Used time series cross-validation to properly evaluate models\n",
    "6. **Final Evaluation**: Tested best model on held-out temporal test set\n",
    "\n",
    "### Key Insights:\n",
    "- Machine learning can successfully identify transit-like features in light curves\n",
    "- Time series cross-validation is crucial for proper evaluation\n",
    "- Feature engineering with temporal components improves performance\n",
    "- Tree-based models perform well for this type of structured data\n",
    "\n",
    "### Future Improvements:\n",
    "- Use larger datasets with more diverse targets\n",
    "- Implement more sophisticated transit detection algorithms\n",
    "- Add physics-based features (period detection, transit duration, etc.)\n",
    "- Experiment with deep learning approaches\n",
    "- Incorporate additional data sources (stellar parameters, etc.)\n",
    "\n",
    "This framework provides a solid foundation for developing more advanced exoplanet detection systems using machine learning."
   ]
  },
  {
   "cell_type": "code",
   "execution_count": null,
   "metadata": {},
   "outputs": [],
   "source": [
    "# Save the best model for future use\n",
    "model_save_path = '../models/best_transit_classifier.joblib'\n",
    "Path('../models').mkdir(exist_ok=True)\n",
    "\n",
    "best_model.save_model(model_save_path)\n",
    "print(f\"Best model saved to {model_save_path}\")\n",
    "\n",
    "# Save final results\n",
    "results_df = pd.DataFrame([final_metrics])\n",
    "results_df.to_csv('../results/final_evaluation.csv', index=False)\n",
    "print(\"Final evaluation results saved to ../results/final_evaluation.csv\")"
   ]
  }
 ],
 "metadata": {
  "kernelspec": {
   "display_name": "Python 3",
   "language": "python",
   "name": "python3"
  },
  "language_info": {
   "codemirror_mode": {
    "name": "ipython",
    "version": 3
   },
   "file_extension": ".py",
   "mimetype": "text/x-python",
   "name": "python",
   "nbconvert_exporter": "python",
   "pygments_lexer": "ipython3",
   "version": "3.10.9"
  }
 },
 "nbformat": 4,
 "nbformat_minor": 4
}
